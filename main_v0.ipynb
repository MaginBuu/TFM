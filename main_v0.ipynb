{
 "cells": [
  {
   "cell_type": "markdown",
   "metadata": {},
   "source": [
    "READ IMAGE AND CONVERT TO BINARY"
   ]
  },
  {
   "cell_type": "code",
   "execution_count": 1,
   "metadata": {},
   "outputs": [
    {
     "ename": "error",
     "evalue": "OpenCV(4.5.5) D:\\a\\opencv-python\\opencv-python\\opencv\\modules\\imgproc\\src\\color.cpp:182: error: (-215:Assertion failed) !_src.empty() in function 'cv::cvtColor'\n",
     "output_type": "error",
     "traceback": [
      "\u001b[1;31m---------------------------------------------------------------------------\u001b[0m",
      "\u001b[1;31merror\u001b[0m                                     Traceback (most recent call last)",
      "\u001b[1;32mc:\\Users\\mtell\\OneDrive\\Documentos\\read_lol_lobby\\ReadLolLobby\\main_v0.ipynb Celda 2\u001b[0m in \u001b[0;36m<cell line: 16>\u001b[1;34m()\u001b[0m\n\u001b[0;32m     <a href='vscode-notebook-cell:/c%3A/Users/mtell/OneDrive/Documentos/read_lol_lobby/ReadLolLobby/main_v0.ipynb#W1sZmlsZQ%3D%3D?line=9'>10</a>\u001b[0m \u001b[39m# img = cv2.imread(path)\u001b[39;00m\n\u001b[0;32m     <a href='vscode-notebook-cell:/c%3A/Users/mtell/OneDrive/Documentos/read_lol_lobby/ReadLolLobby/main_v0.ipynb#W1sZmlsZQ%3D%3D?line=10'>11</a>\u001b[0m \u001b[39m# gray = cv2.cvtColor(img, cv2.COLOR_BGR2GRAY)\u001b[39;00m\n\u001b[0;32m     <a href='vscode-notebook-cell:/c%3A/Users/mtell/OneDrive/Documentos/read_lol_lobby/ReadLolLobby/main_v0.ipynb#W1sZmlsZQ%3D%3D?line=11'>12</a>\u001b[0m \u001b[39m# edges = cv2.Canny(img, 80, 120)\u001b[39;00m\n\u001b[0;32m     <a href='vscode-notebook-cell:/c%3A/Users/mtell/OneDrive/Documentos/read_lol_lobby/ReadLolLobby/main_v0.ipynb#W1sZmlsZQ%3D%3D?line=14'>15</a>\u001b[0m image \u001b[39m=\u001b[39m cv2\u001b[39m.\u001b[39mimread(path)\n\u001b[1;32m---> <a href='vscode-notebook-cell:/c%3A/Users/mtell/OneDrive/Documentos/read_lol_lobby/ReadLolLobby/main_v0.ipynb#W1sZmlsZQ%3D%3D?line=15'>16</a>\u001b[0m image \u001b[39m=\u001b[39m cv2\u001b[39m.\u001b[39;49mcvtColor(image, cv2\u001b[39m.\u001b[39;49mCOLOR_BGR2RGB)\n\u001b[0;32m     <a href='vscode-notebook-cell:/c%3A/Users/mtell/OneDrive/Documentos/read_lol_lobby/ReadLolLobby/main_v0.ipynb#W1sZmlsZQ%3D%3D?line=16'>17</a>\u001b[0m im_gray \u001b[39m=\u001b[39m cv2\u001b[39m.\u001b[39mimread(path, cv2\u001b[39m.\u001b[39mIMREAD_GRAYSCALE)\n\u001b[0;32m     <a href='vscode-notebook-cell:/c%3A/Users/mtell/OneDrive/Documentos/read_lol_lobby/ReadLolLobby/main_v0.ipynb#W1sZmlsZQ%3D%3D?line=17'>18</a>\u001b[0m thresh \u001b[39m=\u001b[39m \u001b[39m50\u001b[39m\n",
      "\u001b[1;31merror\u001b[0m: OpenCV(4.5.5) D:\\a\\opencv-python\\opencv-python\\opencv\\modules\\imgproc\\src\\color.cpp:182: error: (-215:Assertion failed) !_src.empty() in function 'cv::cvtColor'\n"
     ]
    }
   ],
   "source": [
    "import cv2\n",
    "import matplotlib.pyplot as plt\n",
    "import numpy as np\n",
    "import sys\n",
    "import math\n",
    "%matplotlib inline\n",
    "\n",
    "# path\n",
    "path = r'./IMG2.png'\n",
    "# img = cv2.imread(path)\n",
    "# gray = cv2.cvtColor(img, cv2.COLOR_BGR2GRAY)\n",
    "# edges = cv2.Canny(img, 80, 120)\n",
    "\n",
    "\n",
    "image = cv2.imread(path)\n",
    "image = cv2.cvtColor(image, cv2.COLOR_BGR2RGB)\n",
    "im_gray = cv2.imread(path, cv2.IMREAD_GRAYSCALE)\n",
    "thresh = 50\n",
    "im_bw = cv2.threshold(im_gray, thresh, 255, cv2.THRESH_BINARY)[1]\n",
    "\n",
    "# cv2.imwrite(\"./output.png\", im_bw)\n"
   ]
  },
  {
   "cell_type": "markdown",
   "metadata": {},
   "source": [
    "DETECT HORIZONTAL LINES AND CROP THE IMAGE IN SUBIMAGES FOR EVERY PLAYER "
   ]
  },
  {
   "cell_type": "code",
   "execution_count": null,
   "metadata": {},
   "outputs": [],
   "source": [
    "# Detect horizontal lines\n",
    "horizontal_kernel = cv2.getStructuringElement(cv2.MORPH_RECT, (50,1))\n",
    "detect_horizontal = cv2.morphologyEx(im_bw, cv2.MORPH_OPEN, horizontal_kernel, iterations=2)\n",
    "cnts = cv2.findContours(detect_horizontal, cv2.RETR_EXTERNAL, cv2.CHAIN_APPROX_SIMPLE)\n",
    "cnts = cnts[0] if len(cnts) == 2 else cnts[1]\n",
    "\n",
    "# sort by lenght\n",
    "cnts = sorted(cnts, key=lambda item1: cv2.arcLength(item1, True), reverse=True)\n",
    "cnts = cnts[0:13]\n",
    "\n",
    "topImg = None\n",
    "if((cv2.arcLength(cnts[0], True) - cv2.arcLength(cnts[1], True) > 200) or (cv2.arcLength(cnts[-1], True) - cv2.arcLength(cnts[-2], True) > -200)):\n",
    "    c1Max = cnts[0][:, :, 1].max()\n",
    "    c2Max = cnts[1][:, :, 1].max()\n",
    "    topImg = image[c1Max:c2Max, 0:image.shape[1]]\n",
    "    cnts = cnts[1:13]\n",
    "else:\n",
    "    cnts = cnts[0:12]\n",
    "    \n",
    "\n",
    "cnts = sorted(cnts, key=lambda item1: item1[0][0][1])\n",
    "cropped_imgs = []\n",
    "# print(cnts[5])\n",
    "for i in range(0, len(cnts) - 1):\n",
    "    if(i != 5):\n",
    "        # get the lowest points of each contour\n",
    "        c1Max = cnts[i][:, :, 1].max()\n",
    "        c2Max = cnts[i + 1][:, :, 1].max()\n",
    "        cropped_imgs.append(image[c1Max:c2Max, 0:image.shape[1]])\n",
    "    # cv2.drawContours(image, [cnts[i]], 0, (0,255,0), 3)\n",
    "\n",
    "\n",
    "# cv2.imwrite(\"./output.png\", image)          \n",
    "# print(len(cropped_imgs))\n",
    "i = 0\n",
    "for img in cropped_imgs:\n",
    "    cv2.imwrite(f\"./output{i}.png\", img)\n",
    "    i += 1\n",
    "\n",
    "\n"
   ]
  },
  {
   "cell_type": "markdown",
   "metadata": {},
   "source": []
  },
  {
   "cell_type": "markdown",
   "metadata": {},
   "source": [
    "DETECT TEXT ON IMAGES"
   ]
  },
  {
   "cell_type": "code",
   "execution_count": null,
   "metadata": {},
   "outputs": [],
   "source": [
    "# from os import walk\n",
    "\n",
    "# def compareItems(template):\n",
    "#     template = cv2.cvtColor(template, cv2.COLOR_BGR2RGB)\n",
    "\n",
    "#     files = next(walk('./tempItems'), (None, None, []))[2]  # [] if no file\n"
   ]
  },
  {
   "cell_type": "code",
   "execution_count": null,
   "metadata": {},
   "outputs": [],
   "source": [
    "class Player:\n",
    "    def __init__(self):\n",
    "        pass\n",
    "\n",
    "    def toString(self):\n",
    "        return f\"lvl: {self.level} champion: {self.champion} username: {self.username} kda: {self.kda} dmg: {self.dmg} gold: {self.gold}\"\n",
    "\n",
    "\n",
    "def closestContour(item, cnt):\n",
    "    x,y,w,h = cv2.boundingRect(item)\n",
    "    x2, y2, w2, h2 = cv2.boundingRect(cnt)\n",
    "    print(x, y, w, h)\n",
    "    print(x2, y2, w2, h2)\n",
    "    print(math.sqrt(pow(x - x2- pixelsCropped, 2) + pow((y + h) - y2, 2)))\n",
    "    return math.sqrt(pow(x - x2- pixelsCropped, 2) + pow((y + h) - y2, 2))\n",
    "    "
   ]
  },
  {
   "cell_type": "code",
   "execution_count": null,
   "metadata": {},
   "outputs": [],
   "source": [
    "import pytesseract\n",
    "\n",
    "pytesseract.pytesseract.tesseract_cmd = r'C:\\Program Files\\Tesseract-OCR\\tesseract'\n",
    "\n",
    "def readText(image):\n",
    "    image = 255 - image\n",
    "    return pytesseract.image_to_string(image, config='--psm 7')\n",
    "    \n"
   ]
  },
  {
   "cell_type": "code",
   "execution_count": null,
   "metadata": {},
   "outputs": [],
   "source": [
    "# # Importing the proper classes\n",
    "# import os\n",
    "# import pandas as pd\n",
    "# import matplotlib.pyplot as plt\n",
    "# from PIL import Image\n",
    "# from tqdm import tqdm\n",
    "# import numpy as np\n",
    "# from annoy import AnnoyIndex\n",
    "# from tqdm import tqdm\n",
    "# from keras.preprocessing import image\n",
    "# from keras.applications.vgg16 import VGG16, preprocess_input\n",
    "# from keras.models import Model\n",
    "# from keras.utils import image_utils\n",
    "# import tensorflow as tf\n",
    "\n",
    "# def read_data_from_folder(folder_path): # Enter the Single Folder Path/List of the Folders\n",
    "#     image_path = []\n",
    "#     for path in os.listdir(folder_path):\n",
    "#         image_path.append(os.path.join(folder_path,path))\n",
    "#     return image_path # Returning list of images\n",
    "\n",
    "# class FeatureExtractor:\n",
    "#     def __init__(self):\n",
    "#         # Use VGG-16 as the architecture and ImageNet for the weight\n",
    "#         base_model = VGG16(weights='imagenet')\n",
    "#         # Customize the model to return features from fully-connected layer\n",
    "#         self.model = Model(inputs=base_model.input, outputs=base_model.get_layer('fc1').output)\n",
    "#     def extract(self, img):\n",
    "#         # Resize the image\n",
    "#         img = img.resize((224, 224))\n",
    "#         # Convert the image color space\n",
    "#         img = img.convert('RGB')\n",
    "#         # Reformat the image\n",
    "#         x = image_utils.img_to_array(img)\n",
    "#         x = np.expand_dims(x, axis=0)\n",
    "#         x = preprocess_input(x)\n",
    "#         # Extract Features\n",
    "#         feature = self.model.predict(x)[0]\n",
    "#         return feature / np.linalg.norm(feature)\n",
    "#     def get_feature(self,image_data:list):\n",
    "#         self.image_data = image_data \n",
    "#         #fe = FeatureExtractor()\n",
    "#         features = []\n",
    "#         for img_path in tqdm(self.image_data): # Iterate through images \n",
    "#             # Extract Features\n",
    "#             feature = self.extract(img=Image.open(img_path))\n",
    "#             features.append(feature)\n",
    "            \n",
    "#         return features\n",
    "\n",
    "# class image_comparator():\n",
    "#     def __init__(self,image_list:list):\n",
    "#         self.image_list = image_list\n",
    "#         if 'meta-data-files' not in os.listdir():\n",
    "#             os.makedirs(\"meta-data-files\")\n",
    "#         self.FE = FeatureExtractor()\n",
    "#     def start_feature_extraction(self):\n",
    "#         image_data = pd.DataFrame()\n",
    "#         image_data['images_paths'] = self.image_list\n",
    "#         f_data = self.FE.get_feature(self.image_list)\n",
    "#         image_data['features'] = f_data\n",
    "#         image_data = image_data.dropna().reset_index(drop=True)\n",
    "#         image_data.to_pickle(os.path.join('meta-data-files/','image_data_features.pkl'))\n",
    "#         print(\"Image Meta Information Saved: [meta-data-files/image_data_features.pkl]\")\n",
    "#         return image_data\n",
    "#     def start_indexing(self,image_data):\n",
    "#         self.image_data = image_data\n",
    "#         f = len(image_data['features'][0]) # Length of item vector that will be indexed\n",
    "#         t = AnnoyIndex(f, 'euclidean')\n",
    "#         for i,v in tqdm(zip(self.image_data.index,image_data['features'])):\n",
    "#             t.add_item(i, v)\n",
    "#         t.build(100) # 100 trees\n",
    "#         print(\"Saved the Indexed File:\"+\"[meta-data-files/image_features_vectors.ann]\")\n",
    "#         t.save(os.path.join('meta-data-files/','image_features_vectors.ann'))\n",
    "#     def Start(self):\n",
    "#         if len(os.listdir(\"meta-data-files/\"))==0:\n",
    "#             data = self.start_feature_extraction()\n",
    "#             self.start_indexing(data)\n",
    "#         else:\n",
    "#             print(\"Metadata and Features are allready present, Do you want Extract Again? Enter yes or no\")\n",
    "#             flag  = str(input())\n",
    "#             if flag.lower() == 'yes':\n",
    "#                 data = self.start_feature_extraction()\n",
    "#                 self.start_indexing(data)\n",
    "#             else:\n",
    "#                 print(\"Meta data allready Present, Please Apply Search!\")\n",
    "#                 print(os.listdir(\"meta-data-files/\"))\n",
    "\n",
    "# class SearchImage:\n",
    "#     def __init__(self):\n",
    "#         self.image_data = pd.read_pickle(os.path.join('meta-data-files/','image_data_features.pkl'))\n",
    "#         self.f = len(self.image_data['features'][0])\n",
    "#     def search_by_vector(self,v,n:int):\n",
    "#         self.v = v # Feature Vector\n",
    "#         self.n = n # number of output \n",
    "#         u = AnnoyIndex(self.f, 'euclidean')\n",
    "#         u.load('meta-data-files/','image_features_vectors.ann') # super fast, will just mmap the file\n",
    "#         index_list = u.get_nns_by_vector(self.v, self.n) # will find the 10 nearest neighbors\n",
    "#         return dict(zip(index_list,self.image_data.iloc[index_list]['images_paths'].to_list()))\n",
    "#     def get_query_vector(self,img:list):\n",
    "#         fe = FeatureExtractor()\n",
    "#         query_vector = fe.extract(img)\n",
    "#         return query_vector\n",
    "#     def get_most_similar_image(self,img:list):\n",
    "#         query_vector = self.get_query_vector(img)\n",
    "#         img_dict = self.search_by_vector(query_vector,1)\n",
    "#         return img_dict\n",
    "\n",
    "\n",
    "# image_list = read_data_from_folder('tempItems')\n",
    "# # For Faster Serching we need to index Data first, After Indexing all the meta data stored on the local path\n",
    "# image_comparator(image_list).Start()\n",
    "# # for searching you need to give the image path and the number of similar image you want\n",
    "# # image = cv2.imread('./outputItem.png')\n",
    "# # SearchImage().get_most_similar_image(image)"
   ]
  },
  {
   "cell_type": "code",
   "execution_count": 2,
   "metadata": {},
   "outputs": [
    {
     "data": {
      "image/png": "[encoded data removed]",
      "text/plain": [
       "<Figure size 432x288 with 1 Axes>"
      ]
     },
     "metadata": {
      "needs_background": "light"
     },
     "output_type": "display_data"
    },
    {
     "name": "stdout",
     "output_type": "stream",
     "text": [
      "1\n",
      "\n"
     ]
    },
    {
     "data": {
      "image/png": "[encoded data removed]",
      "text/plain": [
       "<Figure size 432x288 with 1 Axes>"
      ]
     },
     "metadata": {
      "needs_background": "light"
     },
     "output_type": "display_data"
    },
    {
     "name": "stdout",
     "output_type": "stream",
     "text": [
      "3\n",
      "\n"
     ]
    },
    {
     "data": {
      "image/png": "[encoded data removed]",
      "text/plain": [
       "<Figure size 432x288 with 1 Axes>"
      ]
     },
     "metadata": {
      "needs_background": "light"
     },
     "output_type": "display_data"
    },
    {
     "name": "stdout",
     "output_type": "stream",
     "text": [
      "/\n",
      "\n"
     ]
    },
    {
     "data": {
      "image/png": "[encoded data removed]",
      "text/plain": [
       "<Figure size 432x288 with 1 Axes>"
      ]
     },
     "metadata": {
      "needs_background": "light"
     },
     "output_type": "display_data"
    },
    {
     "name": "stdout",
     "output_type": "stream",
     "text": [
      "3\n",
      "\n"
     ]
    },
    {
     "data": {
      "image/png": "[encoded data removed]",
      "text/plain": [
       "<Figure size 432x288 with 1 Axes>"
      ]
     },
     "metadata": {
      "needs_background": "light"
     },
     "output_type": "display_data"
    },
    {
     "name": "stdout",
     "output_type": "stream",
     "text": [
      "/\n",
      "\n"
     ]
    },
    {
     "data": {
      "image/png": "[encoded data removed]",
      "text/plain": [
       "<Figure size 432x288 with 1 Axes>"
      ]
     },
     "metadata": {
      "needs_background": "light"
     },
     "output_type": "display_data"
    },
    {
     "name": "stdout",
     "output_type": "stream",
     "text": [
      "6\n",
      "\n"
     ]
    },
    {
     "data": {
      "image/png": "[encoded data removed]",
      "text/plain": [
       "<Figure size 432x288 with 1 Axes>"
      ]
     },
     "metadata": {
      "needs_background": "light"
     },
     "output_type": "display_data"
    },
    {
     "name": "stdout",
     "output_type": "stream",
     "text": [
      "\n"
     ]
    },
    {
     "data": {
      "image/png": "[encoded data removed]",
      "text/plain": [
       "<Figure size 432x288 with 1 Axes>"
      ]
     },
     "metadata": {
      "needs_background": "light"
     },
     "output_type": "display_data"
    },
    {
     "name": "stdout",
     "output_type": "stream",
     "text": [
      "/\n",
      "\n"
     ]
    },
    {
     "data": {
      "image/png": "[encoded data removed]",
      "text/plain": [
       "<Figure size 432x288 with 1 Axes>"
      ]
     },
     "metadata": {
      "needs_background": "light"
     },
     "output_type": "display_data"
    },
    {
     "name": "stdout",
     "output_type": "stream",
     "text": [
      "4\n",
      "\n"
     ]
    },
    {
     "data": {
      "image/png": "[encoded data removed]",
      "text/plain": [
       "<Figure size 432x288 with 1 Axes>"
      ]
     },
     "metadata": {
      "needs_background": "light"
     },
     "output_type": "display_data"
    },
    {
     "name": "stdout",
     "output_type": "stream",
     "text": [
      "/\n",
      "\n"
     ]
    },
    {
     "data": {
      "image/png": "[encoded data removed]",
      "text/plain": [
       "<Figure size 432x288 with 1 Axes>"
      ]
     },
     "metadata": {
      "needs_background": "light"
     },
     "output_type": "display_data"
    },
    {
     "name": "stdout",
     "output_type": "stream",
     "text": [
      "1\n",
      "\n"
     ]
    },
    {
     "data": {
      "image/png": "[encoded data removed]",
      "text/plain": [
       "<Figure size 432x288 with 1 Axes>"
      ]
     },
     "metadata": {
      "needs_background": "light"
     },
     "output_type": "display_data"
    },
    {
     "name": "stdout",
     "output_type": "stream",
     "text": [
      "0\n",
      "\n"
     ]
    },
    {
     "data": {
      "image/png": "[encoded data removed]",
      "text/plain": [
       "<Figure size 432x288 with 1 Axes>"
      ]
     },
     "metadata": {
      "needs_background": "light"
     },
     "output_type": "display_data"
    },
    {
     "name": "stdout",
     "output_type": "stream",
     "text": [
      "1\n",
      "\n"
     ]
    },
    {
     "data": {
      "image/png": "[encoded data removed]",
      "text/plain": [
       "<Figure size 432x288 with 1 Axes>"
      ]
     },
     "metadata": {
      "needs_background": "light"
     },
     "output_type": "display_data"
    },
    {
     "name": "stdout",
     "output_type": "stream",
     "text": [
      "/\n",
      "\n"
     ]
    },
    {
     "data": {
      "image/png": "[encoded data removed]",
      "text/plain": [
       "<Figure size 432x288 with 1 Axes>"
      ]
     },
     "metadata": {
      "needs_background": "light"
     },
     "output_type": "display_data"
    },
    {
     "name": "stdout",
     "output_type": "stream",
     "text": [
      "\n"
     ]
    },
    {
     "data": {
      "image/png": "[encoded data removed]",
      "text/plain": [
       "<Figure size 432x288 with 1 Axes>"
      ]
     },
     "metadata": {
      "needs_background": "light"
     },
     "output_type": "display_data"
    },
    {
     "name": "stdout",
     "output_type": "stream",
     "text": [
      "\n"
     ]
    },
    {
     "data": {
      "image/png": "[encoded data removed]",
      "text/plain": [
       "<Figure size 432x288 with 1 Axes>"
      ]
     },
     "metadata": {
      "needs_background": "light"
     },
     "output_type": "display_data"
    },
    {
     "name": "stdout",
     "output_type": "stream",
     "text": [
      "\n"
     ]
    },
    {
     "data": {
      "image/png": "[encoded data removed]",
      "text/plain": [
       "<Figure size 432x288 with 1 Axes>"
      ]
     },
     "metadata": {
      "needs_background": "light"
     },
     "output_type": "display_data"
    },
    {
     "name": "stdout",
     "output_type": "stream",
     "text": [
      "3\n",
      "\n"
     ]
    },
    {
     "data": {
      "image/png": "[encoded data removed]",
      "text/plain": [
       "<Figure size 432x288 with 1 Axes>"
      ]
     },
     "metadata": {
      "needs_background": "light"
     },
     "output_type": "display_data"
    },
    {
     "name": "stdout",
     "output_type": "stream",
     "text": [
      "/\n",
      "\n"
     ]
    },
    {
     "data": {
      "image/png": "[encoded data removed]",
      "text/plain": [
       "<Figure size 432x288 with 1 Axes>"
      ]
     },
     "metadata": {
      "needs_background": "light"
     },
     "output_type": "display_data"
    },
    {
     "name": "stdout",
     "output_type": "stream",
     "text": [
      "\n"
     ]
    },
    {
     "data": {
      "image/png": "[encoded data removed]",
      "text/plain": [
       "<Figure size 432x288 with 1 Axes>"
      ]
     },
     "metadata": {
      "needs_background": "light"
     },
     "output_type": "display_data"
    },
    {
     "name": "stdout",
     "output_type": "stream",
     "text": [
      "/\n",
      "\n"
     ]
    },
    {
     "data": {
      "image/png": "[encoded data removed]",
      "text/plain": [
       "<Figure size 432x288 with 1 Axes>"
      ]
     },
     "metadata": {
      "needs_background": "light"
     },
     "output_type": "display_data"
    },
    {
     "name": "stdout",
     "output_type": "stream",
     "text": [
      "9\n",
      "\n"
     ]
    },
    {
     "data": {
      "image/png": "[encoded data removed]",
      "text/plain": [
       "<Figure size 432x288 with 1 Axes>"
      ]
     },
     "metadata": {
      "needs_background": "light"
     },
     "output_type": "display_data"
    },
    {
     "name": "stdout",
     "output_type": "stream",
     "text": [
      "1\n",
      "\n"
     ]
    },
    {
     "data": {
      "image/png": "[encoded data removed]",
      "text/plain": [
       "<Figure size 432x288 with 1 Axes>"
      ]
     },
     "metadata": {
      "needs_background": "light"
     },
     "output_type": "display_data"
    },
    {
     "name": "stdout",
     "output_type": "stream",
     "text": [
      "\n"
     ]
    },
    {
     "data": {
      "image/png": "[encoded data removed]",
      "text/plain": [
       "<Figure size 432x288 with 1 Axes>"
      ]
     },
     "metadata": {
      "needs_background": "light"
     },
     "output_type": "display_data"
    },
    {
     "name": "stdout",
     "output_type": "stream",
     "text": [
      "6\n",
      "\n"
     ]
    },
    {
     "data": {
      "image/png": "[encoded data removed]",
      "text/plain": [
       "<Figure size 432x288 with 1 Axes>"
      ]
     },
     "metadata": {
      "needs_background": "light"
     },
     "output_type": "display_data"
    },
    {
     "name": "stdout",
     "output_type": "stream",
     "text": [
      "/\n",
      "\n"
     ]
    },
    {
     "data": {
      "image/png": "[encoded data removed]",
      "text/plain": [
       "<Figure size 432x288 with 1 Axes>"
      ]
     },
     "metadata": {
      "needs_background": "light"
     },
     "output_type": "display_data"
    },
    {
     "name": "stdout",
     "output_type": "stream",
     "text": [
      "\n"
     ]
    },
    {
     "data": {
      "image/png": "[encoded data removed]",
      "text/plain": [
       "<Figure size 432x288 with 1 Axes>"
      ]
     },
     "metadata": {
      "needs_background": "light"
     },
     "output_type": "display_data"
    },
    {
     "name": "stdout",
     "output_type": "stream",
     "text": [
      "\n"
     ]
    },
    {
     "data": {
      "image/png": "[encoded data removed]",
      "text/plain": [
       "<Figure size 432x288 with 1 Axes>"
      ]
     },
     "metadata": {
      "needs_background": "light"
     },
     "output_type": "display_data"
    },
    {
     "name": "stdout",
     "output_type": "stream",
     "text": [
      "0\n",
      "\n"
     ]
    },
    {
     "data": {
      "image/png": "[encoded data removed]",
      "text/plain": [
       "<Figure size 432x288 with 1 Axes>"
      ]
     },
     "metadata": {
      "needs_background": "light"
     },
     "output_type": "display_data"
    },
    {
     "name": "stdout",
     "output_type": "stream",
     "text": [
      "/\n",
      "\n"
     ]
    },
    {
     "data": {
      "image/png": "[encoded data removed]",
      "text/plain": [
       "<Figure size 432x288 with 1 Axes>"
      ]
     },
     "metadata": {
      "needs_background": "light"
     },
     "output_type": "display_data"
    },
    {
     "name": "stdout",
     "output_type": "stream",
     "text": [
      "9\n",
      "\n"
     ]
    },
    {
     "data": {
      "image/png": "[encoded data removed]",
      "text/plain": [
       "<Figure size 432x288 with 1 Axes>"
      ]
     },
     "metadata": {
      "needs_background": "light"
     },
     "output_type": "display_data"
    },
    {
     "name": "stdout",
     "output_type": "stream",
     "text": [
      "/\n",
      "\n"
     ]
    },
    {
     "data": {
      "image/png": "[encoded data removed]",
      "text/plain": [
       "<Figure size 432x288 with 1 Axes>"
      ]
     },
     "metadata": {
      "needs_background": "light"
     },
     "output_type": "display_data"
    },
    {
     "name": "stdout",
     "output_type": "stream",
     "text": [
      "0\n",
      "\n"
     ]
    },
    {
     "data": {
      "image/png": "[encoded data removed]",
      "text/plain": [
       "<Figure size 432x288 with 1 Axes>"
      ]
     },
     "metadata": {
      "needs_background": "light"
     },
     "output_type": "display_data"
    },
    {
     "name": "stdout",
     "output_type": "stream",
     "text": [
      "9\n",
      "\n"
     ]
    },
    {
     "data": {
      "image/png": "[encoded data removed]",
      "text/plain": [
       "<Figure size 432x288 with 1 Axes>"
      ]
     },
     "metadata": {
      "needs_background": "light"
     },
     "output_type": "display_data"
    },
    {
     "name": "stdout",
     "output_type": "stream",
     "text": [
      "/\n",
      "\n"
     ]
    },
    {
     "data": {
      "image/png": "[encoded data removed]",
      "text/plain": [
       "<Figure size 432x288 with 1 Axes>"
      ]
     },
     "metadata": {
      "needs_background": "light"
     },
     "output_type": "display_data"
    },
    {
     "name": "stdout",
     "output_type": "stream",
     "text": [
      "6\n",
      "\n"
     ]
    },
    {
     "data": {
      "image/png": "[encoded data removed]",
      "text/plain": [
       "<Figure size 432x288 with 1 Axes>"
      ]
     },
     "metadata": {
      "needs_background": "light"
     },
     "output_type": "display_data"
    },
    {
     "name": "stdout",
     "output_type": "stream",
     "text": [
      "\n"
     ]
    },
    {
     "data": {
      "image/png": "[encoded data removed]",
      "text/plain": [
       "<Figure size 432x288 with 1 Axes>"
      ]
     },
     "metadata": {
      "needs_background": "light"
     },
     "output_type": "display_data"
    },
    {
     "name": "stdout",
     "output_type": "stream",
     "text": [
      "\n"
     ]
    },
    {
     "data": {
      "image/png": "[encoded data removed]",
      "text/plain": [
       "<Figure size 432x288 with 1 Axes>"
      ]
     },
     "metadata": {
      "needs_background": "light"
     },
     "output_type": "display_data"
    },
    {
     "name": "stdout",
     "output_type": "stream",
     "text": [
      "7\n",
      "\n"
     ]
    },
    {
     "data": {
      "image/png": "[encoded data removed]",
      "text/plain": [
       "<Figure size 432x288 with 1 Axes>"
      ]
     },
     "metadata": {
      "needs_background": "light"
     },
     "output_type": "display_data"
    },
    {
     "name": "stdout",
     "output_type": "stream",
     "text": [
      "/\n",
      "\n"
     ]
    },
    {
     "data": {
      "image/png": "[encoded data removed]",
      "text/plain": [
       "<Figure size 432x288 with 1 Axes>"
      ]
     },
     "metadata": {
      "needs_background": "light"
     },
     "output_type": "display_data"
    },
    {
     "name": "stdout",
     "output_type": "stream",
     "text": [
      "4\n",
      "\n"
     ]
    },
    {
     "data": {
      "image/png": "[encoded data removed]",
      "text/plain": [
       "<Figure size 432x288 with 1 Axes>"
      ]
     },
     "metadata": {
      "needs_background": "light"
     },
     "output_type": "display_data"
    },
    {
     "name": "stdout",
     "output_type": "stream",
     "text": [
      "\n"
     ]
    },
    {
     "data": {
      "image/png": "[encoded data removed]",
      "text/plain": [
       "<Figure size 432x288 with 1 Axes>"
      ]
     },
     "metadata": {
      "needs_background": "light"
     },
     "output_type": "display_data"
    },
    {
     "name": "stdout",
     "output_type": "stream",
     "text": [
      "\n"
     ]
    },
    {
     "data": {
      "image/png": "[encoded data removed]",
      "text/plain": [
       "<Figure size 432x288 with 1 Axes>"
      ]
     },
     "metadata": {
      "needs_background": "light"
     },
     "output_type": "display_data"
    },
    {
     "name": "stdout",
     "output_type": "stream",
     "text": [
      "1\n",
      "\n"
     ]
    },
    {
     "data": {
      "image/png": "[encoded data removed]",
      "text/plain": [
       "<Figure size 432x288 with 1 Axes>"
      ]
     },
     "metadata": {
      "needs_background": "light"
     },
     "output_type": "display_data"
    },
    {
     "name": "stdout",
     "output_type": "stream",
     "text": [
      "0\n",
      "\n"
     ]
    },
    {
     "data": {
      "image/png": "[encoded data removed]",
      "text/plain": [
       "<Figure size 432x288 with 1 Axes>"
      ]
     },
     "metadata": {
      "needs_background": "light"
     },
     "output_type": "display_data"
    },
    {
     "name": "stdout",
     "output_type": "stream",
     "text": [
      "/\n",
      "\n"
     ]
    },
    {
     "data": {
      "image/png": "[encoded data removed]",
      "text/plain": [
       "<Figure size 432x288 with 1 Axes>"
      ]
     },
     "metadata": {
      "needs_background": "light"
     },
     "output_type": "display_data"
    },
    {
     "name": "stdout",
     "output_type": "stream",
     "text": [
      "\n"
     ]
    },
    {
     "data": {
      "image/png": "[encoded data removed]",
      "text/plain": [
       "<Figure size 432x288 with 1 Axes>"
      ]
     },
     "metadata": {
      "needs_background": "light"
     },
     "output_type": "display_data"
    },
    {
     "name": "stdout",
     "output_type": "stream",
     "text": [
      "/\n",
      "\n"
     ]
    },
    {
     "data": {
      "image/png": "[encoded data removed]",
      "text/plain": [
       "<Figure size 432x288 with 1 Axes>"
      ]
     },
     "metadata": {
      "needs_background": "light"
     },
     "output_type": "display_data"
    },
    {
     "name": "stdout",
     "output_type": "stream",
     "text": [
      "6\n",
      "\n"
     ]
    },
    {
     "data": {
      "image/png": "[encoded data removed]",
      "text/plain": [
       "<Figure size 432x288 with 1 Axes>"
      ]
     },
     "metadata": {
      "needs_background": "light"
     },
     "output_type": "display_data"
    },
    {
     "name": "stdout",
     "output_type": "stream",
     "text": [
      "3\n",
      "\n"
     ]
    },
    {
     "data": {
      "image/png": "[encoded data removed]",
      "text/plain": [
       "<Figure size 432x288 with 1 Axes>"
      ]
     },
     "metadata": {
      "needs_background": "light"
     },
     "output_type": "display_data"
    },
    {
     "name": "stdout",
     "output_type": "stream",
     "text": [
      "/\n",
      "\n"
     ]
    },
    {
     "data": {
      "image/png": "[encoded data removed]",
      "text/plain": [
       "<Figure size 432x288 with 1 Axes>"
      ]
     },
     "metadata": {
      "needs_background": "light"
     },
     "output_type": "display_data"
    },
    {
     "name": "stdout",
     "output_type": "stream",
     "text": [
      "6\n",
      "\n"
     ]
    },
    {
     "data": {
      "image/png": "[encoded data removed]",
      "text/plain": [
       "<Figure size 432x288 with 1 Axes>"
      ]
     },
     "metadata": {
      "needs_background": "light"
     },
     "output_type": "display_data"
    },
    {
     "name": "stdout",
     "output_type": "stream",
     "text": [
      "/\n",
      "\n"
     ]
    },
    {
     "data": {
      "image/png": "[encoded data removed]",
      "text/plain": [
       "<Figure size 432x288 with 1 Axes>"
      ]
     },
     "metadata": {
      "needs_background": "light"
     },
     "output_type": "display_data"
    },
    {
     "name": "stdout",
     "output_type": "stream",
     "text": [
      "1\n",
      "\n"
     ]
    },
    {
     "data": {
      "image/png": "[encoded data removed]",
      "text/plain": [
       "<Figure size 432x288 with 1 Axes>"
      ]
     },
     "metadata": {
      "needs_background": "light"
     },
     "output_type": "display_data"
    },
    {
     "name": "stdout",
     "output_type": "stream",
     "text": [
      "\n",
      "[{'role': 'top', 'username': 'Meditate', 'champion': 'Camille', 'lvl': '15', 'kda': '13/3/6', 'dmg': '25761', 'gold': '15416'}, {'role': 'jungle', 'username': 'pemecu', 'champion': 'Udyr', 'lvl': '15', 'kda': '8/4/10', 'dmg': '12550', 'gold': '13084'}, {'role': 'mid', 'username': 'SKILLI LA FRAUDE', 'champion': 'Skarner', 'lvl': '15', 'kda': '1/4/6', 'dmg': '8799', 'gold': '10193'}, {'role': 'adc', 'username': 'Rotthue', 'champion': 'Swain', 'lvl': '14', 'kda': '3/57/9', 'dmg': '13987', 'gold': '10496'}, {'role': 'support', 'username': 'Scriptina', 'champion': 'Nami', 'lvl': '11', 'kda': '1/6/14', 'dmg': '6248', 'gold': '7269'}, {'role': 'top', 'username': 'Reich und Blond', 'champion': 'tavern - Pern. Ache', 'lvl': '7', 'kda': '0/9/0', 'dmg': '4221', 'gold': '5000'}, {'role': 'jungle', 'username': 'Kaiser Ego', 'champion': 'Volibear', 'lvl': '14', 'kda': '2/6/8', 'dmg': '18635', 'gold': '9701'}, {'role': 'mid', 'username': 'Born to die?', 'champion': 'Taliyah', 'lvl': '16', 'kda': '7/4', 'dmg': '23354', 'gold': '13173'}, {'role': 'adc', 'username': 'HEHEXDXDXDD', 'champion': \"Kog'Maw\", 'lvl': '13', 'kda': '10/8/6', 'dmg': '32740', 'gold': '13070'}, {'role': 'support', 'username': 'Fornari', 'champion': 'Lulu', 'lvl': '12', 'kda': '3/6/14', 'dmg': '3407', 'gold': '8427'}]\n"
     ]
    }
   ],
   "source": [
    "import cv2\n",
    "import numpy as np\n",
    "from os import walk, remove\n",
    "import pytesseract\n",
    "pytesseract.pytesseract.tesseract_cmd = r'C:\\Program Files\\Tesseract-OCR\\tesseract'\n",
    "import urllib.request\n",
    "\n",
    "class Player:\n",
    "    def __init__(self):\n",
    "        pass\n",
    "\n",
    "    def toJson(self):\n",
    "        return {\n",
    "            'role': self.role,\n",
    "            'username': self.username,\n",
    "            'champion': self.champion,\n",
    "            'lvl': self.lvl,\n",
    "            'kda': self.kda,\n",
    "            'dmg': self.dmg,\n",
    "            'gold': self.gold,\n",
    "        }\n",
    "\n",
    "# DETECT THE RED VERTICAL LINE (ENEMY TEAM) AND CROP THE LEFT PART OF THE IMAGE\n",
    "def cropLeftPart(image):\n",
    "    lower_red = np.array([170,50,50])\n",
    "    upper_red = np.array([360,250,250])\n",
    "    img_hsl = cv2.cvtColor(image, cv2.COLOR_RGB2HSV)\n",
    "    mask = cv2.inRange(img_hsl, lower_red, upper_red)\n",
    "\n",
    "    # Detect vertical lines\n",
    "    vertical_kernel = cv2.getStructuringElement(cv2.MORPH_RECT, (1,25))\n",
    "    detect_vertical = cv2.morphologyEx(mask, cv2.MORPH_OPEN, vertical_kernel, iterations=2)\n",
    "    cnts = cv2.findContours(detect_vertical, cv2.RETR_EXTERNAL, cv2.CHAIN_APPROX_SIMPLE)\n",
    "    cnts = cnts[0] if len(cnts) == 2 else cnts[1]\n",
    "\n",
    "    # filter by lenght and get the one that is more at the left side of the image\n",
    "    cnts = filter(lambda item: cv2.contourArea(item) > 100, cnts)\n",
    "    cnts = sorted(cnts, key=lambda item1: item1[0][0][0])\n",
    "    x, y, w, h = cv2.boundingRect(cnts[0])\n",
    "    \n",
    "    # crop the left part of the image\n",
    "    return image[:, x + w:]\n",
    "\n",
    "# DETECT IF THERE IS FRIENDLIST (DILATING THE IMAGE VERTICALLY AND SEARCHING FOR A SEPARATED PART) AND CROP IT\n",
    "def cropFriendList(image):\n",
    "    image_enhanced = cv2.equalizeHist(cv2.cvtColor(image, cv2.COLOR_RGB2GRAY))\n",
    "    thresh = 200\n",
    "    img_binary = cv2.threshold(image_enhanced, thresh, 255, cv2.THRESH_BINARY)[1]\n",
    "\n",
    "    #dilate the image vertically to find the diferents parts of the image\n",
    "    kernel = cv2.getStructuringElement(cv2.MORPH_RECT, (1, 3))\n",
    "    image_dilated = cv2.dilate(img_binary, kernel, iterations=25)\n",
    "\n",
    "    #find the contours of the image\n",
    "    cnts = cv2.findContours(image_dilated, cv2.RETR_EXTERNAL, cv2.CHAIN_APPROX_SIMPLE)\n",
    "    cnts = cnts[0] if len(cnts) == 2 else cnts[1]\n",
    "    #delete contours that are not useful for this function\n",
    "    cnts = filter(lambda item: filterVerticalRightSide(item, img_binary), cnts)\n",
    "    #sort from right to left\n",
    "    cnts = sorted(cnts, key=lambda item1: item1[0][0][0], reverse=True)\n",
    "    if(len(cnts) > 0):\n",
    "        x, y, w, h = cv2.boundingRect(cnts[0])\n",
    "        return image[:, 0:x - 10] #image without friend list\n",
    "    \n",
    "    return image\n",
    "\n",
    "#DETECT IF THE IMAGE HAS TOP (VICTORY - DEFEAT) AND BOTTOM (PLAY AGAIN) AND CROP IT\n",
    "def cropTopBottom(image):\n",
    "    image_enhanced = cv2.equalizeHist(cv2.cvtColor(image, cv2.COLOR_RGB2GRAY))\n",
    "    thresh = 250\n",
    "    im_bw = cv2.threshold(image_enhanced, thresh, 255, cv2.THRESH_BINARY)[1]\n",
    "\n",
    "    #dilate the image horizontally to find the diferents rows (usually are the top part, players and bottom part)\n",
    "    kernel = cv2.getStructuringElement(cv2.MORPH_RECT, (20, 1))\n",
    "    image_dilated = cv2.dilate(im_bw, kernel, iterations=100)\n",
    "    #dilate once vertically to avoid small parts\n",
    "    kernel = cv2.getStructuringElement(cv2.MORPH_RECT, (1, 3))\n",
    "    image_dilated = cv2.dilate(image_dilated, kernel, iterations=1)\n",
    "\n",
    "    #find the different rows\n",
    "    cnts = cv2.findContours(image_dilated, cv2.RETR_EXTERNAL, cv2.CHAIN_APPROX_SIMPLE)\n",
    "    cnts = cnts[0] if len(cnts) == 2 else cnts[1]\n",
    "    #filter small rows\n",
    "    cnts = filter(lambda item: filterMinVertical(item, im_bw), cnts)\n",
    "    #sort from top to bottom\n",
    "    cnts = sorted(cnts, key=lambda item1: item1[0][0][1])\n",
    "\n",
    "    \n",
    "    top = None\n",
    "    bottom = None\n",
    "    if(len(cnts) > 0):\n",
    "        foundTop = False\n",
    "        foundBottom = False\n",
    "        cnts2 = cnts[:]\n",
    "        victory_image = None\n",
    "        #find the top player (if it has a lot of space between the countor and the previous one and is on the top of the image)\n",
    "        while not foundTop:\n",
    "            x, y, w, h = cv2.boundingRect(cnts2[0])\n",
    "            x2, y2, w2, h2 = cv2.boundingRect(cnts2[1])\n",
    "            if(y2 - (y + h) > image.shape[0] / 20):\n",
    "                victory_image = image[0:y + h, :]\n",
    "                top = y2\n",
    "                foundTop = True\n",
    "            elif(y > image.shape[0] / 10): \n",
    "                top = y\n",
    "                foundTop = True\n",
    "            else:\n",
    "                cnts2.pop(0)\n",
    "            if(len(cnts2) < 2):\n",
    "                top = 0\n",
    "                foundTop = True\n",
    "\n",
    "        cnts2 = cnts[:]\n",
    "        #find the bottom player (if it has a lot of space between the countor and the previous one and is on the bottom of the image)\n",
    "        while not foundBottom:\n",
    "            x, y, w, h = cv2.boundingRect(cnts2[-1])\n",
    "            x2, y2, w2, h2 = cv2.boundingRect(cnts2[-2])\n",
    "            if(y - (y2 + h2) > image.shape[0] / 20):\n",
    "                bottom = y2 + h2\n",
    "                foundBottom = True\n",
    "            elif(y > image.shape[0] / 2):\n",
    "                bottom = y + h\n",
    "                foundBottom = True\n",
    "            else:\n",
    "                cnts2.pop(-1)\n",
    "            if(len(cnts2) < 2):\n",
    "                bottom = image.shape[0]\n",
    "                foundBottom = True\n",
    "        \n",
    "        image = image[top:bottom, :]\n",
    "\n",
    "        # if the image is too wide it can contain the friend list (the previous function may have failed)\n",
    "        height = image.shape[0]\n",
    "        width = image.shape[1]\n",
    "        if(width / height > 2.25):\n",
    "            image = image[:, 0: int(2.25 * height)]\n",
    "\n",
    "\n",
    "        return image, victory_image\n",
    "    else:\n",
    "        return None, None\n",
    "\n",
    "#DETECT EACH PLAYER ROW AND CROP IT\n",
    "def getPlayerImages(image):\n",
    "    image_enhanced = cv2.equalizeHist(cv2.cvtColor(image, cv2.COLOR_RGB2GRAY))\n",
    "    thresh = 250\n",
    "    im_bw = cv2.threshold(image_enhanced, thresh, 255, cv2.THRESH_BINARY)[1]\n",
    "\n",
    "    #dilate the image horizontally to find each player row\n",
    "    kernel = cv2.getStructuringElement(cv2.MORPH_RECT, (20, 1))\n",
    "    dilate = cv2.dilate(im_bw, kernel, iterations=100)\n",
    "    #dilate once vertically to avoid small parts\n",
    "    kernel = cv2.getStructuringElement(cv2.MORPH_RECT, (1, 3))\n",
    "    dilate = cv2.dilate(dilate, kernel, iterations=1)\n",
    "\n",
    "    #find the different rows\n",
    "    cnts = cv2.findContours(dilate, cv2.RETR_EXTERNAL, cv2.CHAIN_APPROX_SIMPLE)\n",
    "    cnts = cnts[0] if len(cnts) == 2 else cnts[1]\n",
    "    #filter small rows\n",
    "    cnts = filter(lambda item: filterMinVertical(item, im_bw), cnts)\n",
    "    #sort from top to bottom\n",
    "    cnts = sorted(cnts, key=lambda item1: item1[0][0][1])\n",
    "\n",
    "    imgs = []\n",
    "    #if has detected the 10 players, crop each player row\n",
    "    if(len(cnts) == 10):\n",
    "        for cnt in cnts:\n",
    "            x, y, w, h = cv2.boundingRect(cnt)\n",
    "            imgs.append(image[y:y + h + 5, :])\n",
    "    #else find the mid gap and crop each player individually (knowing that each part has 5 players)\n",
    "    else:\n",
    "        x, y, w, h = cv2.boundingRect(cnts[0])\n",
    "        x2, y2, w2, h2 = cv2.boundingRect(cnts[-1])\n",
    "\n",
    "        i = 0\n",
    "        maxSeparation = 0\n",
    "        cntTop = None\n",
    "        cntBottom = None\n",
    "        #get the contourns with bigger gap between them\n",
    "        for i in range(0, len(cnts) - 1):\n",
    "            x3, y3, w3, h3 = cv2.boundingRect(cnts[i])\n",
    "            x4, y4, w4, h4 = cv2.boundingRect(cnts[i + 1])\n",
    "            if(y4 - (y3 + h3) > maxSeparation):\n",
    "                maxSeparation = y4 - (y3 + h3)\n",
    "                cntTop = cnts[i]\n",
    "                cntBottom = cnts[i + 1]\n",
    "            \n",
    "        #crop each player row\n",
    "        if(cntTop is not None and cntBottom is not None):\n",
    "            x4, y4, w4, h4 = cv2.boundingRect(cntBottom)\n",
    "            height = (y2 + h2 - y4) / 5 + 3\n",
    "            for i in range(0, 10):\n",
    "                y5 = y2 - height * i\n",
    "                if(i > 4):\n",
    "                    y5 -= maxSeparation / 2\n",
    "                imgs.append(image[int(y5):int(y5 + height), :])\n",
    "                imgs.reverse()\n",
    "    return imgs\n",
    "\n",
    "#GET THE CONTORNS THAT HAVE A HEIGHT > IMAGE.HEIGHT / 2, ITS WIDTH > IMAGE.WIDTH / 5 AND ARE IN THE RIGHT PART OF THE IMAGE\n",
    "def filterVerticalRightSide(cnt, image):\n",
    "    x, y, w, h = cv2.boundingRect(cnt)\n",
    "    if h > (image.shape[0] / 2) and w < (image.shape[1] / 5) and x > (image.shape[1] * 0.75):\n",
    "        return True\n",
    "    return False\n",
    "\n",
    "#ALL COUNTORNS HAVE TO BE HIGHER THAN THE IMAGE HEIGHT / 30\n",
    "def filterMinVertical(cnt, image):\n",
    "    x, y, w, h = cv2.boundingRect(cnt)\n",
    "    if h > (image.shape[0] / 30):\n",
    "        return True\n",
    "    return False\n",
    "\n",
    "#READ SMALL BLOCK OF NUMBERS\n",
    "def readLvl(image):\n",
    "    data = pytesseract.image_to_string(image, config='--oem 3 --psm 6 -c tessedit_char_whitelist=0123456789')\n",
    "    return data\n",
    "\n",
    "#READ TEXT\n",
    "def readTextUsernameAndChampion(image):\n",
    "    data = pytesseract.image_to_string(image, config='--oem 3 --psm 7')\n",
    "    return data\n",
    "\n",
    "#READ A BIGGER BLOCK OF NUMBERS THAN READLVL\n",
    "def readGoldAndDmg(image):\n",
    "    data = pytesseract.image_to_string(image, config='--psm 7 --oem 3 -c tessedit_char_whitelist=0123456789')\n",
    "    return data\n",
    "\n",
    "#READ SINGLE DIGIT OF KDA (NUMBERS & /)\n",
    "def readSingleDigit(image):\n",
    "    data = pytesseract.image_to_string(image, config='--psm 10 -c tessedit_char_whitelist=0123456789/')\n",
    "    return data\n",
    "\n",
    "#READ WHOLE KDA (NUMBERS & /)\n",
    "def readKDA(image):\n",
    "    data = pytesseract.image_to_string(image, config='--psm 7 -c tessedit_char_whitelist=0123456789/')\n",
    "    return data\n",
    "\n",
    "#GET THE ELEMENTS COORDS (LVL, USERNAME, KDA, DMG, GOLD) TO DO THIS WE TRY TO FIND THE ELEMENT IN EACH IMAGE AND THEN ONLY GET THE COORDS THAT HAVE A RELATION BETWEEN (TO AVOID ERRORS)\n",
    "def getCoords(images, element, x_crop = None):\n",
    "    images_cropped = []\n",
    "    #if we want to get the username we have to crop the left part of the image (the lvl part)\n",
    "    if element == \"username\":\n",
    "        if(x_crop == None):\n",
    "            raise ValueError('Something went wrong')\n",
    "        for image in images:\n",
    "            image = images_cropped.append(image[:, x_crop:])\n",
    "    #if we want to get the dmg or kda we have to crop the right part of the image (gold + dmg(only getting kda))\n",
    "    elif element == 'dmg' or element == 'kda':\n",
    "        if(x_crop == None):\n",
    "            raise ValueError('Something went wrong')\n",
    "        for image in images:\n",
    "            images_cropped.append(image[:, :x_crop])\n",
    "    else:\n",
    "        images_cropped = images[:]\n",
    "    \n",
    "    \n",
    "    coords = [] #coords of the element that we want to get\n",
    "    x, y, w, h = 0, 0, 0, 0\n",
    "    for image in images_cropped:\n",
    "        #preprocess the image and dilate to get the text in one element when getting the contours\n",
    "        image_gray = cv2.cvtColor(image, cv2.COLOR_RGB2GRAY)\n",
    "        thresh = 225\n",
    "        im_bw = cv2.threshold(image_gray, thresh, 255, cv2.THRESH_BINARY)[1]\n",
    "        kernel = cv2.getStructuringElement(cv2.MORPH_RECT, (5, 5))\n",
    "        dilate = cv2.dilate(im_bw, kernel, iterations=3)\n",
    "        \n",
    "        cnts = cv2.findContours(dilate, cv2.RETR_EXTERNAL, cv2.CHAIN_APPROX_SIMPLE)\n",
    "        cnts = cnts[0] if len(cnts) == 2 else cnts[1]\n",
    "        #filter small contours\n",
    "        cnts = filter(lambda item: cv2.contourArea(item) > 300, cnts)\n",
    "        #lvl and username are at the left part of the image\n",
    "        if(element == 'lvl' or element == \"username\"):\n",
    "            cnts = sorted(cnts, key=lambda item1: item1[0][0][0])\n",
    "        #gold, dmg and kda are at the right part of the image\n",
    "        elif(element == 'gold' or element == 'dmg' or element == 'kda'):\n",
    "            cnts = sorted(cnts, key=lambda item1: item1[0][0][0], reverse=True)\n",
    "\n",
    "        if(element == 'lvl' or element == 'username'):\n",
    "            if(len(cnts) > 2):\n",
    "                for i in range(0, 2):\n",
    "                    x, y, w, h = cv2.boundingRect(cnts[i])\n",
    "                    x2, y2, w2, h2 = cv2.boundingRect(cnts[i + 1])\n",
    "                    if(x2 - (x + w) > 50):\n",
    "                        break\n",
    "                    else:\n",
    "                        w += x2 - (x + w) + w2\n",
    "                        \n",
    "            elif(len(cnts) == 1):\n",
    "                x, y, w, h = cv2.boundingRect(cnts[0])\n",
    "            else:\n",
    "                continue\n",
    "\n",
    "            if(element == 'lvl'):\n",
    "                if(x > image.shape[1] / 7):\n",
    "                    continue\n",
    "                \n",
    "                if((w / h) > 1.25):\n",
    "                    x = int((x + w) - h * 1.25)\n",
    "                    w = int(h * 1.25)\n",
    "        else:\n",
    "            if(len(cnts) > 1):\n",
    "                x, y, w, h = cv2.boundingRect(cnts[0])\n",
    "\n",
    "            else:\n",
    "                continue\n",
    "\n",
    "        coords.append([x, w])\n",
    "\n",
    "    #get the coords that have at leat one coord close (looking x)\n",
    "    i = 0\n",
    "    finalCoords = []\n",
    "    for x, w in coords:\n",
    "        for y in range(i + 1, len(coords)):\n",
    "            x2, w2 = coords[y]\n",
    "            if(abs(x - x2) < 30):\n",
    "                finalCoords.append([x, w])\n",
    "                break\n",
    "        i += 1\n",
    "\n",
    "    x, y, w, h = 0, 0, 0, 0\n",
    "    if(element == 'lvl'):\n",
    "        x, y, w, h = 0, 0, 0, 0\n",
    "        for x2, w2 in finalCoords:\n",
    "            x += x2\n",
    "            w += w2\n",
    "                                        \n",
    "        if(len(finalCoords) != 0):\n",
    "            x /= len(finalCoords)\n",
    "            w /= len(finalCoords)\n",
    "    else:\n",
    "        for x2, w2 in finalCoords:\n",
    "            x = x2 if x2 < x or x == 0 else x\n",
    "            w = w2 if w2 > w else w\n",
    "    \n",
    "    return int(x), 0, int(w), 0\n",
    "\n",
    "def preprocessImg(img, threshold = 150):\n",
    "    img=cv2.cvtColor(img,cv2.COLOR_RGB2GRAY)\n",
    "    mask = img < threshold\n",
    "    img[mask] = 0\n",
    "    img2 = cv2.copyMakeBorder(img, 10,5,10,5, borderType=cv2.BORDER_CONSTANT, value=0)\n",
    "    img2 = cv2.equalizeHist(img2)\n",
    "    img2 = cv2.bilateralFilter(img2,4,25, 25)\n",
    "    img2 = cv2.resize(img2, None, fx=3, fy=3, interpolation=cv2.INTER_CUBIC)\n",
    "    img2 = cv2.GaussianBlur(img2, (3, 3), 0)\n",
    "    img2 = cv2.equalizeHist(img2)\n",
    "    img2 = 255 - img2\n",
    "    _,img2 = cv2.threshold(img2,150,255,cv2.THRESH_BINARY)\n",
    "\n",
    "    return img2\n",
    "\n",
    "\n",
    "def preprocessImg2(img):\n",
    "    img2 = cv2.copyMakeBorder(img, 5,5,5,5, borderType=cv2.BORDER_CONSTANT, value=255)\n",
    "    img2 = cv2.equalizeHist(img2)\n",
    "    img2 = cv2.bilateralFilter(img2,4,25, 25)\n",
    "    img2 = cv2.resize(img2, None, fx=3, fy=3, interpolation=cv2.INTER_CUBIC)\n",
    "    img2 = cv2.GaussianBlur(img2, (3, 3), 0)\n",
    "    img2 = cv2.equalizeHist(img2)\n",
    "    _,img2 = cv2.threshold(img2,150,255,cv2.THRESH_BINARY)\n",
    "\n",
    "    return img2\n",
    "\n",
    "if __name__ == '__main__':\n",
    "    # req = urllib.request.urlopen('https://storage.googleapis.com/esportslink-imges/posts/IMG2.png')\n",
    "    # arr = np.asarray(bytearray(req.read()), dtype=np.uint8)\n",
    "    # image = cv2.cvtColor(cv2.imdecode(arr, -1), cv2.COLOR_BGR2RGB)\n",
    "    # cv2.imwrite(f\"./output/Item.png\", image)\n",
    "    image = cv2.cvtColor(cv2.imread(f'./input/img4.jpg'), cv2.COLOR_BGR2RGB)\n",
    "    #crop left part (0 -> start of players stats)\n",
    "    image = cropLeftPart(image)\n",
    "    cv2.imwrite(f\"./output/1.png\", image)\n",
    "    #Crop the friends list (if exists)\n",
    "    image = cropFriendList(image)\n",
    "    cv2.imwrite(f\"./output/2.png\", image)\n",
    "    #Crop the top (victory - defeat) and bottom (play again) part (if they exist)\n",
    "    image, victoryImage = cropTopBottom(image) #image is only the part of the players now\n",
    "    cv2.imwrite(f\"./output/3.png\", image)\n",
    "\n",
    "    #if error\n",
    "    if(len(image) == None):\n",
    "        raise ValueError('Something went wrong')\n",
    "    \n",
    "    #Get each player row (with all the stats)\n",
    "    playerImages = getPlayerImages(image)\n",
    "    \n",
    "\n",
    "    i = 0\n",
    "\n",
    "    x_lvl, y_lvl, w_lvl, h_lvl = getCoords(playerImages, 'lvl')\n",
    "    x_username, y_username, w_username, h_username = getCoords(playerImages, 'username', x_lvl + w_lvl)\n",
    "    x_username += (x_lvl + w_lvl)\n",
    "    x_gold, y_gold, w_gold, h_gold = getCoords(playerImages, 'gold')\n",
    "    x_dmg, y_dmg, w_dmg, h_dmg = getCoords(playerImages, 'dmg', x_gold - 5)\n",
    "    x_kda, y_kda, w_kda, h_kda = getCoords(playerImages, 'kda', x_dmg - 5)\n",
    "    roles = ['top', 'jungle', 'mid', 'adc', 'support']\n",
    "    players = []\n",
    "\n",
    "    for playerRow in playerImages:\n",
    "        player = Player()\n",
    "        player.role = roles[i]\n",
    "\n",
    "        #crop the part of image that contains text and read it\n",
    "        lvl_image = playerRow[:, x_lvl:x_lvl+w_lvl] \n",
    "        lvl_image = preprocessImg(lvl_image)\n",
    "        player.lvl = readLvl(lvl_image).replace(\"\\n\", \"\")\n",
    "\n",
    "        \n",
    "        username_image = playerRow[0:int(playerRow.shape[0] * 0.5), x_username:x_username+w_username]\n",
    "        username_image = preprocessImg(username_image)\n",
    "        player.username = readTextUsernameAndChampion(username_image).replace(\"\\n\", \"\")\n",
    "        cv2.imwrite(f\"./output/Item{i}_username.png\", username_image)\n",
    "\n",
    "        champion_image = playerRow[int(playerRow.shape[0] * 0.5):, x_username:x_username+w_username]\n",
    "        champion_image = preprocessImg(champion_image, 75)\n",
    "        player.champion = readTextUsernameAndChampion(champion_image).replace(\"\\n\", \"\")\n",
    "\n",
    "\n",
    "        gold_image = playerRow[0:int(playerRow.shape[0] * 0.55), (x_gold - 5):(x_gold + w_gold + 5)]\n",
    "        gold_image = preprocessImg(gold_image)\n",
    "        player.gold = readGoldAndDmg(gold_image).replace(\"\\n\", \"\")\n",
    "\n",
    "        dmg_image = playerRow[0:int(playerRow.shape[0] * 0.55), (x_dmg - 5):(x_dmg + w_dmg + 5)]\n",
    "        dmg_image = preprocessImg(dmg_image)\n",
    "        player.dmg = readGoldAndDmg(dmg_image).replace(\"\\n\", \"\")\n",
    "\n",
    "\n",
    "        #kda was not reading as good as the other ones, in this case we have divided into digits and read individually and if\n",
    "        #it fails, we read the whole text\n",
    "        kda_image = playerRow[0:int(playerRow.shape[0] * 0.55), (x_kda - 5):(x_kda + w_kda + 5)]\n",
    "        kda_image = preprocessImg(kda_image)\n",
    "        cv2.imwrite(f\"./output/Item_{i}_kda.png\", kda_image)\n",
    "\n",
    "        #find each digit\n",
    "        contours, hierarchy = cv2.findContours(kda_image, cv2.RETR_TREE, cv2.CHAIN_APPROX_SIMPLE)\n",
    "        cnts = []\n",
    "        #check that is not a contour inside a digit\n",
    "        for y in range(len(contours)):\n",
    "            if hierarchy[0,y,3] == 0:\n",
    "                cnts.append(contours[y])\n",
    "        #sort from left to right\n",
    "        cnts = sorted(cnts, key=lambda item1: item1[0][0][0])\n",
    "        kda_string = ''\n",
    "        for cnt in cnts:\n",
    "            x_digit, y_digit, w_digit, h_digit = cv2.boundingRect(cnt)\n",
    "            img_digit = kda_image[y_digit:y_digit+h_digit, x_digit:x_digit+w_digit]\n",
    "            #add border to the digit to make it easier to read\n",
    "            # img_digit = cv2.copyMakeBorder(img_digit, 5,5,5,5, borderType=cv2.BORDER_CONSTANT, value=255)\n",
    "            character = readSingleDigit(img_digit)\n",
    "            imgplot = plt.imshow(img_digit, cmap='gray')\n",
    "            plt.show()\n",
    "            print(character)\n",
    "            kda_string += character[0] if character != '' and character is not None else '/'\n",
    "        \n",
    "        kda_string2 = kda_string\n",
    "        #it does not have exactly 2 / it means that there is an error in our data, so we read the whole text\n",
    "        if(kda_string.count('/') != 2 ):\n",
    "            kda_string = readKDA(kda_image).replace(\"\\n\", \"\")\n",
    "\n",
    "        kda_split = kda_string.split('/')\n",
    "        if(len(kda_split[0]) == 0):\n",
    "            kda_split[0] = kda_string2.split('/')[0]\n",
    "        if(len(kda_split[-1]) == 0):\n",
    "            kda_split[-1] = kda_string2.split('/')[-1]\n",
    "        \n",
    "        kda_string = '/'.join(kda_split)\n",
    "\n",
    "        player.kda = kda_string\n",
    "        players.append(player.toJson())\n",
    "        \n",
    "        i += 1\n",
    "        i %= 5\n",
    "    \n",
    "    print(players)\n",
    "\n",
    "        \n",
    "\n"
   ]
  }
 ],
 "metadata": {
  "interpreter": {
   "hash": "a051935315e21e25324997e33534f6e2ddeb6caf70c1568ba4b6a12e84284737"
  },
  "kernelspec": {
   "display_name": "Python 3.10.4 64-bit (windows store)",
   "language": "python",
   "name": "python3"
  },
  "language_info": {
   "codemirror_mode": {
    "name": "ipython",
    "version": 3
   },
   "file_extension": ".py",
   "mimetype": "text/x-python",
   "name": "python",
   "nbconvert_exporter": "python",
   "pygments_lexer": "ipython3",
   "version": "3.10.6"
  },
  "orig_nbformat": 4
 },
 "nbformat": 4,
 "nbformat_minor": 2
}
